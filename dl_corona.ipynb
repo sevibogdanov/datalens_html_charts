{
 "cells": [
  {
   "cell_type": "code",
   "execution_count": null,
   "id": "d8af0e34",
   "metadata": {},
   "outputs": [
    {
     "data": {
      "text/html": [
       "<style>.container { width:100% !important; }</style>"
      ],
      "text/plain": [
       "<IPython.core.display.HTML object>"
      ]
     },
     "metadata": {},
     "output_type": "display_data"
    }
   ],
   "source": [
    "import pandas as pd\n",
    "import datetime\n",
    "from IPython.display import display, HTML\n",
    "import pyperclip\n",
    "\n",
    "display(HTML(\"<style>.container { width:100% !important; }</style>\"))\n",
    "\n",
    "#грузим и обрабатываем данные\n",
    "df = pd.read_csv('corona.csv',sep=';',encoding='utf8')\n",
    "df['dt'] = pd.to_datetime(df['Дата'],format='%d.%m.%Y')\n",
    "df = df.drop(columns=['Дата'])\n",
    "df.rename(columns = {\n",
    "    'Регион':'region',\n",
    "    'Заражений':'infected_total',\n",
    "    'Выздоровлений':'healed_total',\n",
    "    'Смертей':'deaths',\n",
    "    'Смертей за день':'deaths_per_day',\n",
    "    'Заражений за день':'infected_per_day',\n",
    "    'Выздоровлений за день':'healed_per_day',\n",
    "},inplace=True)\n",
    "\n",
    "dft = pd.read_excel('regions.xlsx') #словарь с координатами плиток\n",
    "\n",
    "# объединяем со справочником\n",
    "df = df.merge(dft,how='left',left_on='region',right_on='corona_region')\n",
    "\n",
    "# датасет для плитки (с координатами положения регионов)\n",
    "df_plitka = df[['region','row','column']].drop_duplicates()\n",
    "\n",
    "# df.to_csv('dataset_corona_with_regions.csv',index=False) #сохраняю для загрузки в datalens"
   ]
  },
  {
   "cell_type": "markdown",
   "id": "b9b8a4fb",
   "metadata": {},
   "source": [
    "### Календарь"
   ]
  },
  {
   "cell_type": "code",
   "execution_count": null,
   "id": "29198c56",
   "metadata": {},
   "outputs": [
    {
     "name": "stdout",
     "output_type": "stream",
     "text": [
      "70529\n"
     ]
    }
   ],
   "source": [
    "month = 11\n",
    "\n",
    "width_big = '370px' #ширина внешней рамки\n",
    "width = '360px' #ширина плиток\n",
    "cell_height = '25px'\n",
    "grid_height = '35px'\n",
    "\n",
    "\n",
    "month_name = datetime.date(1900,month,1).strftime(\"%B\")\n",
    "weeks = 6\n",
    "days = 7\n",
    "\n",
    "\n",
    "\n",
    "text = ''\n",
    "text+=f\"\"\"\\n'<div style=\"border:1px solid #d4d4d4;border-radius:5px;width: {width_big};height: 370px;\">'+\"\"\"\n",
    "text+=f\"\"\"\\n'<div style=\"border:1px solid #000;border-radius:5px;background-color:#fff;margin: 4px;padding-left: 10px;width: {width};height: {cell_height};border-color: grey;display: flex; align-items: center;\">'+\n",
    "'<span style=\"font-size:14px;\">{month_name} '+str(year([p_report_date]))+'</span></div>'+ \"\"\"\n",
    "for week in range(weeks):\n",
    "    text+=f\"\"\"\\n   '<div style=\"display: grid;grid-template-columns: repeat({days}, 1fr);grid-gap: 2px;border: 0px solid #696989;width: {width};height: {grid_height};padding: 1px;border: 0px solid 696989;margin-left: 4px;margin-right: 4px;margin-bottom:19px;\">'+\"\"\"\n",
    "    for day in range(1,days+1):\n",
    "        color_string = f'''\\n if(sum_if([healed_per_day],{day+week*7}-DAYOFWEEK(DATEADD(DATETRUNC([p_report_date],'year'),'month',{month-1}))+1 = day([dt]) and month([dt])={month} and year([dt])=year([p_report_date]))>sum_if([infected_per_day],{day+week*7}-DAYOFWEEK(DATEADD(DATETRUNC([p_report_date],'year'),'month',{month-1}))+1 = day([dt]) and month([dt])={month} and year([dt])=year([p_report_date])),'#006600','#990000')'''\n",
    "        \n",
    "        text+=f\"\"\"\\n    if(DAYOFWEEK(DATEADD(DATETRUNC([p_report_date],'year'),'month',{month-1}))-1 < {day+week*7} and day(DATEADD(DATETRUNC([p_report_date],'year'),'month',{month})-1)+DAYOFWEEK(DATEADD(DATETRUNC([p_report_date],'year'),'month',{month-1}))-1 >= {day+week*7},\n",
    "'<div style=\"border:1px solid #000;border-radius:5px;background-color: {'#f5f5f5' if day <= 5 else '#fff0f5'}; border-color: grey; padding: 1px;\">'+\n",
    "'<span style=\"font-size:10px;color: #bababa;\">'+\n",
    "str({day+week*7}-DAYOFWEEK(DATEADD(DATETRUNC([p_report_date],'year'),'month',{month-1}))+1)\n",
    "+'</span></p>'\n",
    "+'<span style=\"font-size:14px; color: '+{color_string}+';display: table;margin: 0 auto;\">'+\n",
    "str(if(DAYOFWEEK(DATEADD(DATETRUNC([p_report_date],'year'),'month',{month-1}))-1 < {day+week*7} and day(DATEADD(DATETRUNC([p_report_date],'year'),'month',{month})-1)+DAYOFWEEK(DATEADD(DATETRUNC([p_report_date],'year'),'month',{month-1}))-1 >= {day+week*7},\n",
    "str(round(sum_if([healed_per_day],{day+week*7}-DAYOFWEEK(DATEADD(DATETRUNC([p_report_date],'year'),'month',{month-1}))+1 = day([dt]) and month([dt])={month} and year([dt])=year([p_report_date]))\n",
    "/\n",
    "sum_if([infected_per_day],{day+week*7}-DAYOFWEEK(DATEADD(DATETRUNC([p_report_date],'year'),'month',{month-1}))+1 = day([dt]) and month([dt])={month} and year([dt])=year([p_report_date])),2))\n",
    ",''))+'</span></div>',\n",
    "'<div style=\"border:0px solid #000;border-radius:5px;background-color:fff; border-color: grey; padding: 0px;height: {cell_height};\"><span></span></div>')+\n",
    "\"\"\"\n",
    "    text+=\"'</div>'+\"\n",
    "text+= \"'</div>'\"\n",
    "\n",
    "pyperclip.copy(text)\n",
    "print(len(text))"
   ]
  },
  {
   "cell_type": "markdown",
   "id": "780ea5ea",
   "metadata": {},
   "source": [
    "### Плитки"
   ]
  },
  {
   "cell_type": "code",
   "execution_count": 13,
   "id": "83a328e8",
   "metadata": {},
   "outputs": [
    {
     "data": {
      "text/html": [
       "<div>\n",
       "<style scoped>\n",
       "    .dataframe tbody tr th:only-of-type {\n",
       "        vertical-align: middle;\n",
       "    }\n",
       "\n",
       "    .dataframe tbody tr th {\n",
       "        vertical-align: top;\n",
       "    }\n",
       "\n",
       "    .dataframe thead th {\n",
       "        text-align: right;\n",
       "    }\n",
       "</style>\n",
       "<table border=\"1\" class=\"dataframe\">\n",
       "  <thead>\n",
       "    <tr style=\"text-align: right;\">\n",
       "      <th></th>\n",
       "      <th>region</th>\n",
       "      <th>row</th>\n",
       "      <th>column</th>\n",
       "    </tr>\n",
       "  </thead>\n",
       "  <tbody>\n",
       "    <tr>\n",
       "      <th>0</th>\n",
       "      <td>Чукотский АО</td>\n",
       "      <td>2</td>\n",
       "      <td>17</td>\n",
       "    </tr>\n",
       "    <tr>\n",
       "      <th>1</th>\n",
       "      <td>Бурятия</td>\n",
       "      <td>5</td>\n",
       "      <td>15</td>\n",
       "    </tr>\n",
       "    <tr>\n",
       "      <th>2</th>\n",
       "      <td>Краснодарский край</td>\n",
       "      <td>10</td>\n",
       "      <td>5</td>\n",
       "    </tr>\n",
       "    <tr>\n",
       "      <th>3</th>\n",
       "      <td>Адыгея</td>\n",
       "      <td>11</td>\n",
       "      <td>5</td>\n",
       "    </tr>\n",
       "    <tr>\n",
       "      <th>4</th>\n",
       "      <td>Челябинская обл.</td>\n",
       "      <td>6</td>\n",
       "      <td>11</td>\n",
       "    </tr>\n",
       "    <tr>\n",
       "      <th>...</th>\n",
       "      <td>...</td>\n",
       "      <td>...</td>\n",
       "      <td>...</td>\n",
       "    </tr>\n",
       "    <tr>\n",
       "      <th>139</th>\n",
       "      <td>Саха (Якутия)</td>\n",
       "      <td>3</td>\n",
       "      <td>16</td>\n",
       "    </tr>\n",
       "    <tr>\n",
       "      <th>142</th>\n",
       "      <td>Тамбовская обл.</td>\n",
       "      <td>7</td>\n",
       "      <td>6</td>\n",
       "    </tr>\n",
       "    <tr>\n",
       "      <th>149</th>\n",
       "      <td>Тюменская обл.</td>\n",
       "      <td>4</td>\n",
       "      <td>12</td>\n",
       "    </tr>\n",
       "    <tr>\n",
       "      <th>161</th>\n",
       "      <td>Рязанская обл.</td>\n",
       "      <td>6</td>\n",
       "      <td>6</td>\n",
       "    </tr>\n",
       "    <tr>\n",
       "      <th>246</th>\n",
       "      <td>Тыва</td>\n",
       "      <td>6</td>\n",
       "      <td>14</td>\n",
       "    </tr>\n",
       "  </tbody>\n",
       "</table>\n",
       "<p>85 rows × 3 columns</p>\n",
       "</div>"
      ],
      "text/plain": [
       "                 region  row  column\n",
       "0          Чукотский АО    2      17\n",
       "1               Бурятия    5      15\n",
       "2    Краснодарский край   10       5\n",
       "3                Адыгея   11       5\n",
       "4      Челябинская обл.    6      11\n",
       "..                  ...  ...     ...\n",
       "139       Саха (Якутия)    3      16\n",
       "142     Тамбовская обл.    7       6\n",
       "149      Тюменская обл.    4      12\n",
       "161      Рязанская обл.    6       6\n",
       "246                Тыва    6      14\n",
       "\n",
       "[85 rows x 3 columns]"
      ]
     },
     "execution_count": 13,
     "metadata": {},
     "output_type": "execute_result"
    }
   ],
   "source": [
    "df_plitka"
   ]
  },
  {
   "cell_type": "code",
   "execution_count": null,
   "id": "185bbb08",
   "metadata": {},
   "outputs": [
    {
     "name": "stdout",
     "output_type": "stream",
     "text": [
      "5714\n"
     ]
    }
   ],
   "source": [
    "row_num = 12 #задается для 1 графика (который отвечает за строку плиточной карты)\n",
    "#--параметры для настройки-----------------------\n",
    "grid_gap = '8px' #расстояние между плитками слева-справа\n",
    "height = '55px' #высота 1 строки\n",
    "line_width = '1580px' #ширина всей строки\n",
    "\n",
    "cell_width = '80px' #ширина 1 клетки\n",
    "border_cell_width = '1px' #ширина границы\n",
    "border_cell_color = '#000' #цвет границы\n",
    "border_radius = '5px' #скругление углов\n",
    "font_size_name = '8px' #размер названия региона\n",
    "font_size_val = '16px' #размер шрифта значения\n",
    "#------------------------------------------------\n",
    "\n",
    "\n",
    "row_df = df_plitka[df_plitka['row']==row_num] #оставляем только нужную строку\n",
    "\n",
    "def shorten_name(x):\n",
    "    '''функция для сокращения кол-ва симоволов в подписи плитки'''\n",
    "    x = x.replace('Калининградская','Калинингр.')\n",
    "    x = x.replace('Ленинградская','Ленингр.')\n",
    "    x = x.replace('Ямало-Ненецкий','Ям.-Нен.')\n",
    "    x = x.replace('Красноярский','Красноярск.')\n",
    "    x = x.replace('Нижегородская','Нижегородск.')\n",
    "    x = x.replace('Забайкальский','Забайкальск.')\n",
    "    x = x.replace('Краснодарский','Краснод.')\n",
    "    x = x.replace('Ставропольский','Ставропол.')\n",
    "    x = x.replace('Карачаево-Черкессия','Карач.-Черк.')\n",
    "    x = x.replace('Кабардино-Балкария','Кабард.-Балк.')\n",
    "    x = x.replace('Новосибирская','Новосиб.')\n",
    "    return x\n",
    "\n",
    "text = \"\"\"'<div style=\"background-color: #fff;\">'+\\n\"\"\"\n",
    "text+=f\"\"\"'<div style=\"display:grid;grid-template-columns:repeat({df_plitka.column.max()},1fr);grid-gap:{grid_gap};width:{line_width};height:{height};padding:0px;border:0px;\">'+\"\"\"\n",
    "for col in range(1,df_plitka.column.max()):\n",
    "    is_empty = len(row_df[row_df['column']==col]['region'])==0                 #смотрим клетка содержит регион или нет\n",
    "    name = '' if is_empty else row_df[row_df['column']==col]['region'].iloc[0] #достаем название региона\n",
    "    background_color = '#fff' if is_empty else '#ededed'                       #цвет фона\n",
    "    border_cell = '0px' if is_empty else border_cell_width\n",
    "    number = \"''\" if is_empty else f\"\"\"str(round(sum_if([healed_per_day],[region]='{name}')/sum_if([infected_per_day],[region]='{name}'),2))\"\"\" #формула для отношения щаболевших к вылечившимся\n",
    "    font_val_color = f\"\"\"if(round(sum_if([healed_per_day],[region]='{name}')/sum_if([infected_per_day],[region]='{name}'),2)<1,'color: #990000;\">','color: #006600;\">')\"\"\"\n",
    "    \n",
    "    \n",
    "    text+=f\"\"\"\\n '<div style =\"border: {border_cell} solid {border_cell_color};border-radius: {border_radius};background-color: {background_color};height: {height};width: {cell_width};padding: 2px;font-size: {font_size_name}\">{shorten_name(name)}'+\"\"\"\n",
    "    text+=f\"\"\"'<p style =\"font-size: {font_size_val}; '+{font_val_color}+{number}+'</p></div>'+\"\"\"\n",
    "text+=\"\\n'</div></div>'\"\n",
    "\n",
    "pyperclip.copy(text)\n",
    "print(len(text))"
   ]
  }
 ],
 "metadata": {
  "celltoolbar": "Raw Cell Format",
  "kernelspec": {
   "display_name": "Python 3 (ipykernel)",
   "language": "python",
   "name": "python3"
  },
  "language_info": {
   "codemirror_mode": {
    "name": "ipython",
    "version": 3
   },
   "file_extension": ".py",
   "mimetype": "text/x-python",
   "name": "python",
   "nbconvert_exporter": "python",
   "pygments_lexer": "ipython3",
   "version": "3.10.5"
  }
 },
 "nbformat": 4,
 "nbformat_minor": 5
}
